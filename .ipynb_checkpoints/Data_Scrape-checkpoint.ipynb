{
 "cells": [
  {
   "cell_type": "code",
   "execution_count": 5,
   "metadata": {
    "collapsed": false
   },
   "outputs": [],
   "source": [
    "# Goal: Scrape all the csv files and README files from the data source:\n",
    "# http://www.equality-of-opportunity.org/data/\n",
    "# Place them in the directory data/ (ideally will make more subfolders later)\n"
   ]
  },
  {
   "cell_type": "code",
   "execution_count": 7,
   "metadata": {
    "collapsed": true
   },
   "outputs": [
    {
     "data": {
      "text/plain": [
       "('/Users/akhiljalan/anaconda/mobility/data/college/something',\n <http.client.HTTPMessage at 0x110dccba8>)"
      ]
     },
     "execution_count": 7,
     "metadata": {},
     "output_type": "execute_result"
    }
   ],
   "source": [
    "import urllib.request\n",
    "import os \n",
    "file_url = \"http://www.equality-of-opportunity.org/data/college/mrc_table1.csv\"\n",
    "file_path = os.path.expanduser(\"~/anaconda/mobility/data/college/something\")\n",
    "\n",
    "urllib.request.urlretrieve(file_url, file_path)"
   ]
  },
  {
   "cell_type": "code",
   "execution_count": null,
   "metadata": {},
   "outputs": [],
   "source": []
  }
 ],
 "metadata": {
  "kernelspec": {
   "display_name": "Python [conda root]",
   "language": "python",
   "name": "conda-root-py"
  },
  "language_info": {
   "codemirror_mode": {
    "name": "ipython",
    "version": 3
   },
   "file_extension": ".py",
   "mimetype": "text/x-python",
   "name": "python",
   "nbconvert_exporter": "python",
   "pygments_lexer": "ipython3",
   "version": "3.6.0"
  }
 },
 "nbformat": 4,
 "nbformat_minor": 2
}
